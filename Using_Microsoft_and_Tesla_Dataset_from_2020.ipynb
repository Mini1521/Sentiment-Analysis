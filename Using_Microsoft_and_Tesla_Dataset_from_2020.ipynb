{
  "cells": [
    {
      "cell_type": "markdown",
      "metadata": {
        "id": "view-in-github",
        "colab_type": "text"
      },
      "source": [
        "<a href=\"https://colab.research.google.com/github/Mini1521/Sentiment-Analysis/blob/main/Using_Microsoft_and_Tesla_Dataset_from_2020.ipynb\" target=\"_parent\"><img src=\"https://colab.research.google.com/assets/colab-badge.svg\" alt=\"Open In Colab\"/></a>"
      ]
    },
    {
      "cell_type": "markdown",
      "metadata": {
        "id": "RSSbeztl4SuC"
      },
      "source": [
        "# Stock Data- preprocessing"
      ]
    },
    {
      "cell_type": "code",
      "execution_count": 1,
      "metadata": {
        "id": "8JXK8qKp3rFC",
        "colab": {
          "base_uri": "https://localhost:8080/"
        },
        "outputId": "e9c4a4af-b800-4bd9-fad2-e317008d3e37"
      },
      "outputs": [
        {
          "output_type": "stream",
          "name": "stdout",
          "text": [
            "Merged CSV saved as 'merged_data.csv'\n"
          ]
        }
      ],
      "source": [
        "import pandas as pd\n",
        "\n",
        "# Load the two CSV files\n",
        "df1 = pd.read_csv(\"/content/drive/MyDrive/Colab Notebooks/Datasets/OG - Datasets/Company.csv\")\n",
        "df2 = pd.read_csv(\"/content/drive/MyDrive/Colab Notebooks/Datasets/OG - Datasets/CompanyValues.csv\")\n",
        "\n",
        "# Merge the data on a common column (e.g., 'day_date')\n",
        "merged_df = pd.merge(df1, df2, on=\"ticker_symbol\", how=\"left\")  # Use \"outer\", \"left\", or \"right\" if needed\n",
        "\n",
        "# Save the merged dataset to a new CSV file\n",
        "merged_df.to_csv(\"merged_data.csv\", index=False)\n",
        "\n",
        "print(\"Merged CSV saved as 'merged_data.csv'\")"
      ]
    },
    {
      "cell_type": "code",
      "execution_count": 2,
      "metadata": {
        "id": "Egmn_3Ea2U1x",
        "colab": {
          "base_uri": "https://localhost:8080/"
        },
        "outputId": "c66a964b-9bcb-4240-ba9d-0f7e09bf8c51"
      },
      "outputs": [
        {
          "output_type": "stream",
          "name": "stdout",
          "text": [
            "Data preprocessing complete.\n",
            "Saved: 'msft_2019.csv' and 'tsla_2019.csv'\n"
          ]
        }
      ],
      "source": [
        "import pandas as pd\n",
        "\n",
        "# Load the dataset (update the filename if needed)\n",
        "df = pd.read_csv('/content/merged_data.csv')\n",
        "\n",
        "df.rename(columns={'post_date': 'date'}, inplace=True)\n",
        "\n",
        "# Convert 'day_date' to datetime format\n",
        "df['day_date'] = pd.to_datetime(df['day_date'], errors='coerce')\n",
        "\n",
        "# Filter data for the year 2020\n",
        "df_2019 = df[df['day_date'].dt.year == 2019]\n",
        "df_2019 = df_2019.sort_values(by='day_date', ascending=True)\n",
        "\n",
        "# Separate data for Microsoft (MSFT) and Tesla (TSLA)\n",
        "msft_data = df_2019[df_2019['ticker_symbol'] == 'MSFT']\n",
        "tsla_data = df_2019[df_2019['ticker_symbol'] == 'TSLA']\n",
        "\n",
        "# Drop rows with missing values\n",
        "msft_data = msft_data.dropna()\n",
        "tsla_data = tsla_data.dropna()\n",
        "\n",
        "\n",
        "# print(\" Stock Data Date Range:\")\n",
        "# print(f\"Start Date: {msft_data['day_date'].min()} | End Date: {msft_data['day_date'].max()}\")\n",
        "# print(f\"Start Date: {tsla_data['day_date'].min()} | End Date: {tsla_data['day_date'].max()}\")\n",
        "\n",
        "# Save each dataset separately\n",
        "msft_data.to_csv(\"msft_2019.csv\", index=False)\n",
        "tsla_data.to_csv(\"tsla_2019.csv\", index=False)\n",
        "\n",
        "print(\"Data preprocessing complete.\")\n",
        "print(\"Saved: 'msft_2019.csv' and 'tsla_2019.csv'\")\n"
      ]
    },
    {
      "cell_type": "markdown",
      "metadata": {
        "id": "rtIxEm3w4aUw"
      },
      "source": [
        "# Social Media - preprocessing"
      ]
    },
    {
      "cell_type": "code",
      "execution_count": 3,
      "metadata": {
        "id": "3xXgbcP14Fe1"
      },
      "outputs": [],
      "source": [
        "import numpy as np\n",
        "import pandas as pd\n",
        "\n",
        "# Load datasets\n",
        "company_tweets = pd.read_csv(\"/content/drive/MyDrive/Colab Notebooks/Datasets/OG - Datasets/Company_Tweet.csv\")\n",
        "tweets = pd.read_csv(\"/content/drive/MyDrive/Colab Notebooks/Datasets/OG - Datasets/Tweet.csv\")\n",
        "\n",
        "# Merge tweets with company information\n",
        "tweets = tweets.merge(company_tweets, how='left', on='tweet_id')"
      ]
    },
    {
      "cell_type": "code",
      "execution_count": 4,
      "metadata": {
        "id": "S8kNuI0l5lL7"
      },
      "outputs": [],
      "source": [
        "# Convert 'post_date' to datetime format\n",
        "tweets['date'] = pd.to_datetime(tweets['post_date'], unit='s').dt.date\n",
        "tweets['date'] = pd.to_datetime(tweets['date'], errors='coerce')\n",
        "# tweets['time'] = pd.to_datetime(tweets['post_date'], unit='s').dt.time\n",
        "\n",
        "tweets.to_csv(\"merged_tweets.csv\", index=False)\n",
        "\n",
        "tweets.drop(columns=['comment_num', 'retweet_num', 'like_num'], inplace=True)"
      ]
    },
    {
      "cell_type": "code",
      "execution_count": 5,
      "metadata": {
        "id": "rs-K5Kp-5p_e"
      },
      "outputs": [],
      "source": [
        "# Filter for Microsoft (MSFT) and Tesla (TSLA)\n",
        "tweets_filtered = tweets[tweets['ticker_symbol'].isin(['MSFT', 'TSLA'])]\n",
        "\n",
        "# Keep only tweets from 2019\n",
        "tweets_filtered = tweets_filtered[tweets_filtered['date'].dt.year == 2019]\n",
        "\n",
        "# Split into separate datasets\n",
        "msft_tweets = tweets_filtered[tweets_filtered['ticker_symbol'] == 'MSFT']\n",
        "tsla_tweets = tweets_filtered[tweets_filtered['ticker_symbol'] == 'TSLA']\n",
        "\n",
        "# Save to CSV files\n",
        "msft_tweets.to_csv(\"msft_tweets_2019.csv\", index=False)\n",
        "tsla_tweets.to_csv(\"tsla_tweets_2019.csv\", index=False)"
      ]
    },
    {
      "cell_type": "markdown",
      "source": [
        "# Cleaning of microsoft tweets"
      ],
      "metadata": {
        "id": "v7oM2YYybjpJ"
      }
    },
    {
      "cell_type": "code",
      "execution_count": 6,
      "metadata": {
        "colab": {
          "base_uri": "https://localhost:8080/"
        },
        "id": "VajmTQ2t5x6T",
        "outputId": "034e0d72-bed7-4db1-9d66-33078ea74835"
      },
      "outputs": [
        {
          "output_type": "stream",
          "name": "stderr",
          "text": [
            "[nltk_data] Downloading package punkt to /root/nltk_data...\n",
            "[nltk_data]   Unzipping tokenizers/punkt.zip.\n",
            "[nltk_data] Downloading package stopwords to /root/nltk_data...\n",
            "[nltk_data]   Unzipping corpora/stopwords.zip.\n",
            "[nltk_data] Downloading package punkt_tab to /root/nltk_data...\n",
            "[nltk_data]   Unzipping tokenizers/punkt_tab.zip.\n",
            "[nltk_data] Downloading package wordnet to /root/nltk_data...\n"
          ]
        }
      ],
      "source": [
        "import re\n",
        "import pandas as pd\n",
        "import string\n",
        "import re\n",
        "import nltk\n",
        "from sklearn.feature_extraction.text import TfidfVectorizer\n",
        "from sklearn.model_selection import train_test_split\n",
        "from nltk.corpus import stopwords\n",
        "from nltk.stem import WordNetLemmatizer\n",
        "nltk.download('punkt')\n",
        "nltk.download('stopwords')\n",
        "nltk.download('punkt_tab')\n",
        "nltk.download('wordnet')\n",
        "\n",
        "# Load Twitter dataset\n",
        "tweets_df = pd.read_csv(\"/content/msft_tweets_2019.csv\")"
      ]
    },
    {
      "cell_type": "code",
      "execution_count": 7,
      "metadata": {
        "id": "-Gn3mF5f7Ho2"
      },
      "outputs": [],
      "source": [
        "# rename columns\n",
        "tweets_df.rename(columns={'body': 'Tweet'}, inplace=True)\n",
        "tweets_df.rename(columns={'post_date': 'day_date'}, inplace=True)\n",
        "\n",
        "# Droping Duplicates\n",
        "tweets_df.drop_duplicates(subset=['Tweet'], inplace=True)\n",
        "\n",
        "# Handle Missing Values\n",
        "tweets_df.dropna(subset=['Tweet'], inplace=True)  # Drop rows where 'Tweet' is empty\n",
        "\n",
        "# Ensure 'date' is in datetime format\n",
        "tweets_df['date'] = pd.to_datetime(tweets_df['date'], errors='coerce')\n",
        "\n",
        "tweets_df = tweets_df.sort_values(by='date', ascending=True)"
      ]
    },
    {
      "cell_type": "code",
      "execution_count": 8,
      "metadata": {
        "id": "gjEXLpIW7NTx"
      },
      "outputs": [],
      "source": [
        "# Initialize preprocessing tools\n",
        "stop_words = set(stopwords.words('english'))\n",
        "lemmatizer = WordNetLemmatizer()\n",
        "def clean_text(text):\n",
        "    text = str(text).lower()\n",
        "    text = re.sub(r'\\d+', '', text)  # Remove numbers\n",
        "    text = text.translate(str.maketrans('', '', string.punctuation))  # Remove punctuation\n",
        "    text = text.strip()\n",
        "    words = text.split()\n",
        "    words = [lemmatizer.lemmatize(word) for word in words if word not in stop_words]  # Lemmatization\n",
        "    return ' '.join(words)\n"
      ]
    },
    {
      "cell_type": "code",
      "execution_count": 9,
      "metadata": {
        "id": "agU-7Vpx7OuU"
      },
      "outputs": [],
      "source": [
        "# Apply cleaning function\n",
        "tweets_df['cleaned_tweet'] = tweets_df['Tweet'].astype(str).apply(clean_text)\n",
        "\n",
        "#Saving the cleaned data for further analysis\n",
        "tweets_df.to_csv(\"cleaned_msft_tweets.csv\", index=False)"
      ]
    },
    {
      "cell_type": "markdown",
      "source": [
        "# Cleaning of tesla tweets"
      ],
      "metadata": {
        "id": "l1SpoBmabqms"
      }
    },
    {
      "cell_type": "code",
      "execution_count": 10,
      "metadata": {
        "id": "7NXDc8W87WJ-"
      },
      "outputs": [],
      "source": [
        "# Load Twitter dataset\n",
        "tweets_df = pd.read_csv(\"/content/tsla_tweets_2019.csv\")"
      ]
    },
    {
      "cell_type": "code",
      "execution_count": 11,
      "metadata": {
        "id": "GNtXLEMH7fOq"
      },
      "outputs": [],
      "source": [
        "# rename columns\n",
        "tweets_df.rename(columns={'body': 'Tweet'}, inplace=True)\n",
        "tweets_df.rename(columns={'post_date': 'day_date'}, inplace=True)\n",
        "\n",
        "# Droping Duplicates\n",
        "tweets_df.drop_duplicates(subset=['Tweet'], inplace=True)\n",
        "\n",
        "# Handle Missing Values\n",
        "tweets_df.dropna(subset=['Tweet'], inplace=True)  # Drop rows where 'Tweet' is empty"
      ]
    },
    {
      "cell_type": "code",
      "execution_count": 12,
      "metadata": {
        "id": "gHP_1vVj2_rZ"
      },
      "outputs": [],
      "source": [
        "# Ensure 'date' is in datetime format\n",
        "tweets_df['date'] = pd.to_datetime(tweets_df['date'], errors='coerce')\n",
        "\n",
        "tweets_df = tweets_df.sort_values(by='date', ascending=True)"
      ]
    },
    {
      "cell_type": "code",
      "execution_count": 13,
      "metadata": {
        "id": "uTsoOO7G7kQB"
      },
      "outputs": [],
      "source": [
        "stop_words = set(stopwords.words('english'))\n",
        "lemmatizer = WordNetLemmatizer()\n",
        "def clean_text(text):\n",
        "    text = str(text).lower()\n",
        "    text = re.sub(r'\\d+', '', text)  # Remove numbers\n",
        "    text = text.translate(str.maketrans('', '', string.punctuation))  # Remove punctuation\n",
        "    text = text.strip()\n",
        "    words = text.split()\n",
        "    words = [lemmatizer.lemmatize(word) for word in words if word not in stop_words]  # Lemmatization\n",
        "    return ' '.join(words)"
      ]
    },
    {
      "cell_type": "code",
      "execution_count": 14,
      "metadata": {
        "id": "L9RWBI4B7l87"
      },
      "outputs": [],
      "source": [
        "# Apply cleaning function\n",
        "tweets_df['cleaned_tweet'] = tweets_df['Tweet'].astype(str).apply(clean_text)\n",
        "\n",
        "#Saving the cleaned data for further analysis\n",
        "tweets_df.to_csv(\"cleaned_tsla_tweets.csv\", index=False)"
      ]
    },
    {
      "cell_type": "markdown",
      "metadata": {
        "id": "n-WWdulg7vQ_"
      },
      "source": [
        "# Microsoft Articles - Preprocessing"
      ]
    },
    {
      "cell_type": "code",
      "execution_count": 15,
      "metadata": {
        "id": "73juevOP7sGJ",
        "colab": {
          "base_uri": "https://localhost:8080/"
        },
        "outputId": "92681d5d-ef81-4b0b-8180-8aa59b5c85d8"
      },
      "outputs": [
        {
          "output_type": "stream",
          "name": "stderr",
          "text": [
            "[nltk_data] Downloading package punkt to /root/nltk_data...\n",
            "[nltk_data]   Package punkt is already up-to-date!\n",
            "[nltk_data] Downloading package stopwords to /root/nltk_data...\n",
            "[nltk_data]   Package stopwords is already up-to-date!\n",
            "[nltk_data] Downloading package punkt_tab to /root/nltk_data...\n",
            "[nltk_data]   Package punkt_tab is already up-to-date!\n",
            "[nltk_data] Downloading package wordnet to /root/nltk_data...\n",
            "[nltk_data]   Package wordnet is already up-to-date!\n"
          ]
        }
      ],
      "source": [
        "import re\n",
        "import pandas as pd\n",
        "import string\n",
        "import re\n",
        "import nltk\n",
        "from sklearn.feature_extraction.text import TfidfVectorizer\n",
        "from sklearn.model_selection import train_test_split\n",
        "from nltk.corpus import stopwords\n",
        "from nltk.stem import WordNetLemmatizer\n",
        "nltk.download('punkt')\n",
        "nltk.download('stopwords')\n",
        "nltk.download('punkt_tab')\n",
        "nltk.download('wordnet')\n",
        "\n",
        "# Load the dataset (Update the filename if needed)\n",
        "article = pd.read_csv(\"/content/drive/MyDrive/Colab Notebooks/Datasets/OG - Datasets/msft_articles.csv\")"
      ]
    },
    {
      "cell_type": "code",
      "execution_count": 16,
      "metadata": {
        "id": "Al3Cv7Pc8DM7"
      },
      "outputs": [],
      "source": [
        "# Convert 'date' column to datetime format\n",
        "article['date'] = pd.to_datetime(article['date'], errors='coerce')\n",
        "\n",
        "# Filter for only the year 2020\n",
        "year_2020 = article[article['date'].dt.year == 2020]\n",
        "year_2020 = year_2020.sort_values(by='date', ascending=True)\n",
        "\n",
        "# Drop rows with missing values\n",
        "year_2020 = year_2020.dropna()"
      ]
    },
    {
      "cell_type": "code",
      "execution_count": 17,
      "metadata": {
        "id": "Rl597yZM8EZ0"
      },
      "outputs": [],
      "source": [
        "stop_words = set(stopwords.words('english'))\n",
        "lemmatizer = WordNetLemmatizer()\n",
        "def clean_text(text):\n",
        "    text = str(text).lower()\n",
        "    text = re.sub(r'\\d+', '', text)  # Remove numbers\n",
        "    text = text.translate(str.maketrans('', '', string.punctuation))  # Remove punctuation\n",
        "    text = text.strip()\n",
        "    words = text.split()\n",
        "    words = [lemmatizer.lemmatize(word) for word in words if word not in stop_words]  # Lemmatization\n",
        "    return ' '.join(words)"
      ]
    },
    {
      "cell_type": "code",
      "execution_count": 18,
      "metadata": {
        "id": "3GKTyi-w8KAO"
      },
      "outputs": [],
      "source": [
        "# Apply text cleaning to the 'text' column\n",
        "year_2020['text'] = year_2020['text'].astype(str).apply(clean_text)\n",
        "\n",
        "# Save the cleaned dataset\n",
        "year_2020.to_csv(\"cleaned_msft_articles.csv\", index=False)"
      ]
    },
    {
      "cell_type": "markdown",
      "metadata": {
        "id": "mmI7toQa7yyK"
      },
      "source": [
        "# Tesla Articles - Preprocessing"
      ]
    },
    {
      "cell_type": "code",
      "execution_count": 19,
      "metadata": {
        "id": "6AAa59TO72XZ"
      },
      "outputs": [],
      "source": [
        "# Load the dataset (Update the filename if needed)\n",
        "article = pd.read_csv('/content/drive/MyDrive/Colab Notebooks/Datasets/OG - Datasets/tsla_articles.csv')"
      ]
    },
    {
      "cell_type": "code",
      "execution_count": 20,
      "metadata": {
        "id": "9X4JjhFH8iJo"
      },
      "outputs": [],
      "source": [
        "# Convert 'date' column to datetime format\n",
        "article['date'] = pd.to_datetime(article['date'], errors='coerce')\n",
        "\n",
        "# Filter for only the year 2020\n",
        "year_2020 = article[article['date'].dt.year == 2020]\n",
        "year_2020 = year_2020.sort_values(by='date', ascending=True)\n",
        "\n",
        "# Drop rows with missing values\n",
        "year_2020 = year_2020.dropna()"
      ]
    },
    {
      "cell_type": "code",
      "execution_count": 21,
      "metadata": {
        "id": "tiV_Rxro8jjZ"
      },
      "outputs": [],
      "source": [
        "stop_words = set(stopwords.words('english'))\n",
        "lemmatizer = WordNetLemmatizer()\n",
        "def clean_text(text):\n",
        "    text = str(text).lower()\n",
        "    text = re.sub(r'\\d+', '', text)  # Remove numbers\n",
        "    text = text.translate(str.maketrans('', '', string.punctuation))  # Remove punctuation\n",
        "    text = text.strip()\n",
        "    words = text.split()\n",
        "    words = [lemmatizer.lemmatize(word) for word in words if word not in stop_words]  # Lemmatization\n",
        "    return ' '.join(words)"
      ]
    },
    {
      "cell_type": "code",
      "execution_count": 22,
      "metadata": {
        "id": "XpPxvRcX8kzb"
      },
      "outputs": [],
      "source": [
        "# Apply text cleaning to the 'text' column\n",
        "year_2020['text'] = year_2020['text'].astype(str).apply(clean_text)\n",
        "\n",
        "# Save the cleaned dataset\n",
        "year_2020.to_csv(\"cleaned_tsla_articles.csv\", index=False)"
      ]
    },
    {
      "cell_type": "markdown",
      "metadata": {
        "id": "bwsJ668S--1y"
      },
      "source": [
        "# Sentiment Analysis- microsoft"
      ]
    },
    {
      "cell_type": "code",
      "source": [
        "!pip install textblob"
      ],
      "metadata": {
        "colab": {
          "base_uri": "https://localhost:8080/"
        },
        "id": "_A_K5_sYf9f5",
        "outputId": "7ec524df-2f1e-4083-da70-3d5b754502cc"
      },
      "execution_count": 23,
      "outputs": [
        {
          "output_type": "stream",
          "name": "stdout",
          "text": [
            "Requirement already satisfied: textblob in /usr/local/lib/python3.11/dist-packages (0.19.0)\n",
            "Requirement already satisfied: nltk>=3.9 in /usr/local/lib/python3.11/dist-packages (from textblob) (3.9.1)\n",
            "Requirement already satisfied: click in /usr/local/lib/python3.11/dist-packages (from nltk>=3.9->textblob) (8.1.8)\n",
            "Requirement already satisfied: joblib in /usr/local/lib/python3.11/dist-packages (from nltk>=3.9->textblob) (1.4.2)\n",
            "Requirement already satisfied: regex>=2021.8.3 in /usr/local/lib/python3.11/dist-packages (from nltk>=3.9->textblob) (2024.11.6)\n",
            "Requirement already satisfied: tqdm in /usr/local/lib/python3.11/dist-packages (from nltk>=3.9->textblob) (4.67.1)\n"
          ]
        }
      ]
    },
    {
      "cell_type": "code",
      "execution_count": 23,
      "metadata": {
        "id": "q1LqstO5Wd20"
      },
      "outputs": [],
      "source": [
        "import pandas as pd\n",
        "import nltk\n",
        "from nltk.sentiment import SentimentIntensityAnalyzer\n",
        "from textblob import TextBlob\n",
        "\n",
        "# Load datasets\n",
        "tweets_df = pd.read_csv(\"/content/cleaned_msft_tweets.csv\")\n",
        "news_df = pd.read_csv(\"/content/cleaned_msft_articles.csv\")\n",
        "\n",
        "# Ensure text column is string type\n",
        "tweets_df['Tweet'] = tweets_df['Tweet'].astype(str)\n",
        "news_df['text'] = news_df['text'].astype(str)"
      ]
    },
    {
      "cell_type": "code",
      "execution_count": 24,
      "metadata": {
        "id": "p-mrbgZ3WnP3",
        "colab": {
          "base_uri": "https://localhost:8080/"
        },
        "outputId": "d3d0abd0-2cf4-47ee-c6f4-8f8d88b8a9bb"
      },
      "outputs": [
        {
          "output_type": "stream",
          "name": "stderr",
          "text": [
            "[nltk_data] Downloading package vader_lexicon to /root/nltk_data...\n"
          ]
        }
      ],
      "source": [
        "# VADER Sentiment Analysis for Tweets\n",
        "\n",
        "nltk.download('vader_lexicon')\n",
        "sia = SentimentIntensityAnalyzer()\n",
        "\n",
        "# Function to get sentiment score from VADER\n",
        "def get_vader_sentiment(text):\n",
        "    score = sia.polarity_scores(text)['compound']\n",
        "    return 1 if score > 0 else (-1 if score < 0 else 0)\n",
        "\n",
        "# Apply VADER sentiment analysis to tweets\n",
        "tweets_df['sentiment'] = tweets_df['Tweet'].apply(get_vader_sentiment)"
      ]
    },
    {
      "cell_type": "code",
      "execution_count": 25,
      "metadata": {
        "id": "M_kjNMV7Ww87",
        "colab": {
          "base_uri": "https://localhost:8080/"
        },
        "outputId": "68d14cba-a23d-447d-b008-146cf5ac47e5"
      },
      "outputs": [
        {
          "output_type": "stream",
          "name": "stdout",
          "text": [
            "Sentiment analysis complete! Results saved.\n"
          ]
        }
      ],
      "source": [
        "# TextBlob Sentiment Analysis for News\n",
        "\n",
        "# Function to get sentiment score from TextBlob\n",
        "def get_textblob_sentiment(text):\n",
        "    score = TextBlob(text).sentiment.polarity\n",
        "    return 1 if score > 0 else (-1 if score < 0 else 0)\n",
        "\n",
        "# Apply TextBlob sentiment analysis to news articles\n",
        "news_df['sentiment'] = news_df['text'].apply(get_textblob_sentiment)\n",
        "\n",
        "# Save sentiment-labeled datasets\n",
        "tweets_df.to_csv(\"sentiment_msft_tweets.csv\", index=False)\n",
        "news_df.to_csv(\"sentiment_msft_news.csv\", index=False)\n",
        "\n",
        "print(\"Sentiment analysis complete! Results saved.\")"
      ]
    },
    {
      "cell_type": "code",
      "execution_count": 27,
      "metadata": {
        "id": "MeEqVaPKViz1"
      },
      "outputs": [],
      "source": [
        "# news_df.head()"
      ]
    },
    {
      "cell_type": "code",
      "source": [
        "# from sklearn.naive_bayes import MultinomialNB\n",
        "# from sklearn.svm import SVC\n",
        "# from sklearn.tree import DecisionTreeClassifier\n",
        "# from sklearn.ensemble import RandomForestClassifier\n",
        "# from sklearn.pipeline import Pipeline\n",
        "# from sklearn.metrics import accuracy_score\n",
        "# from sklearn.model_selection import train_test_split"
      ],
      "metadata": {
        "id": "1Nd5bQZiAH-m"
      },
      "execution_count": 28,
      "outputs": []
    },
    {
      "cell_type": "code",
      "source": [
        "# # Load preprocessed datasets\n",
        "# tweets_df = pd.read_csv(\"/content/sentiment_msft_tweets.csv\")\n",
        "# news_df = pd.read_csv(\"/content/sentiment_msft_news.csv\")"
      ],
      "metadata": {
        "id": "Yw1PnCpKAMuG"
      },
      "execution_count": 29,
      "outputs": []
    },
    {
      "cell_type": "code",
      "source": [
        "# # Train-test split\n",
        "# X_tweets, X_test_tweets, y_tweets, y_test_tweets = train_test_split(tweets_df['cleaned_tweet'], tweets_df['sentiment'], test_size=0.2)\n",
        "# X_news, X_test_news, y_news, y_test_news = train_test_split(news_df['text'], news_df['sentiment'], test_size=0.2)\n"
      ],
      "metadata": {
        "id": "PzLl-nhnErG9"
      },
      "execution_count": 30,
      "outputs": []
    },
    {
      "cell_type": "code",
      "source": [
        "# # Create ML Pipelines for different models\n",
        "# def train_model(X_train, y_train, X_test, y_test, model):\n",
        "#     pipeline = Pipeline([\n",
        "#         ('tfidf', TfidfVectorizer(max_features=5000)),\n",
        "#         ('classifier', model)\n",
        "#     ])\n",
        "#     pipeline.fit(X_train, y_train)\n",
        "#     predictions = pipeline.predict(X_test)\n",
        "#     accuracy = accuracy_score(y_test, predictions)\n",
        "#     print(f\"Model {model.__class__.__name__} Accuracy: {accuracy:.4f}\")\n",
        "#     return pipeline"
      ],
      "metadata": {
        "id": "u07hP7x0E3fk"
      },
      "execution_count": 31,
      "outputs": []
    },
    {
      "cell_type": "code",
      "source": [
        "# # Train models\n",
        "# models = {\n",
        "#     'Naïve Bayes': MultinomialNB(),\n",
        "#     'SVM': SVC(kernel='linear'),\n",
        "#     'Decision Tree': DecisionTreeClassifier(),\n",
        "#     'Random Forest': RandomForestClassifier(n_estimators=100)\n",
        "# }\n",
        "\n",
        "# trained_models = {name: train_model(X_tweets, y_tweets, X_test_tweets, y_test_tweets, model) for name, model in models.items()}\n"
      ],
      "metadata": {
        "colab": {
          "base_uri": "https://localhost:8080/"
        },
        "id": "UJB0zcv3E4eX",
        "outputId": "e780862b-9970-4944-e825-4f964186be54"
      },
      "execution_count": 32,
      "outputs": [
        {
          "output_type": "stream",
          "name": "stdout",
          "text": [
            "Model MultinomialNB Accuracy: 0.7457\n",
            "Model SVC Accuracy: 0.8935\n",
            "Model DecisionTreeClassifier Accuracy: 0.8030\n",
            "Model RandomForestClassifier Accuracy: 0.8520\n"
          ]
        }
      ]
    },
    {
      "cell_type": "markdown",
      "source": [
        "SVM is the best model, followed by Random Forest Classifier.\n",
        "\n",
        "*  Model MultinomialNB Accuracy: 0.7461\n",
        "*  Model SVC Accuracy: 0.8903\n",
        "*  Model DecisionTreeClassifier Accuracy: 0.8060\n",
        "*  Model RandomForestClassifier Accuracy: 0.8510"
      ],
      "metadata": {
        "id": "tKDjpBdDFMpJ"
      }
    },
    {
      "cell_type": "code",
      "source": [
        "from sklearn.naive_bayes import MultinomialNB\n",
        "from sklearn.svm import SVC\n",
        "from sklearn.tree import DecisionTreeClassifier\n",
        "from sklearn.ensemble import RandomForestClassifier\n",
        "from sklearn.pipeline import Pipeline\n",
        "from sklearn.metrics import accuracy_score\n",
        "from sklearn.model_selection import train_test_split\n",
        "from sklearn.feature_extraction.text import TfidfVectorizer\n",
        "\n",
        "# Load preprocessed datasets\n",
        "tweets_df = pd.read_csv(\"/content/sentiment_msft_tweets.csv\")\n",
        "news_df = pd.read_csv(\"/content/sentiment_msft_news.csv\")\n",
        "\n",
        "# Train-test split for Tweets\n",
        "X_tweets, X_test_tweets, y_tweets, y_test_tweets = train_test_split(\n",
        "    tweets_df['cleaned_tweet'], tweets_df['sentiment'], test_size=0.2, random_state=42\n",
        ")\n",
        "\n",
        "# Train-test split for News\n",
        "X_news, X_test_news, y_news, y_test_news = train_test_split(\n",
        "    news_df['text'], news_df['sentiment'], test_size=0.2, random_state=42\n",
        ")\n",
        "\n",
        "# Function to train models\n",
        "def train_model(X_train, y_train, X_test, y_test, model):\n",
        "    pipeline = Pipeline([\n",
        "        ('tfidf', TfidfVectorizer(max_features=5000)),\n",
        "        ('classifier', model)\n",
        "    ])\n",
        "    pipeline.fit(X_train, y_train)\n",
        "    predictions = pipeline.predict(X_test)\n",
        "    accuracy = accuracy_score(y_test, predictions)\n",
        "    print(f\"Model {model.__class__.__name__} Accuracy: {accuracy:.4f}\")\n",
        "    return pipeline\n",
        "\n",
        "# Models to Train\n",
        "models = {\n",
        "    'Naïve Bayes': MultinomialNB(),\n",
        "    'SVM': SVC(kernel='linear'),\n",
        "    'Decision Tree': DecisionTreeClassifier(),\n",
        "    'Random Forest': RandomForestClassifier(n_estimators=100)\n",
        "}\n",
        "\n",
        "# Train models for Tweets\n",
        "print(\"\\n Training Models for Tweet Sentiment Classification \")\n",
        "trained_models_tweets = {\n",
        "    name: train_model(X_tweets, y_tweets, X_test_tweets, y_test_tweets, model)\n",
        "    for name, model in models.items()\n",
        "}\n",
        "\n",
        "# Train models for News\n",
        "print(\"\\n Training Models for News Sentiment Classification \")\n",
        "trained_models_news = {\n",
        "    name: train_model(X_news, y_news, X_test_news, y_test_news, model)\n",
        "    for name, model in models.items()\n",
        "}"
      ],
      "metadata": {
        "colab": {
          "base_uri": "https://localhost:8080/"
        },
        "id": "ojPQbUo1q3fz",
        "outputId": "c788b3bf-c827-4584-d928-3745b274f973"
      },
      "execution_count": 26,
      "outputs": [
        {
          "output_type": "stream",
          "name": "stdout",
          "text": [
            "\n",
            " Training Models for Tweet Sentiment Classification \n",
            "Model MultinomialNB Accuracy: 0.7532\n",
            "Model SVC Accuracy: 0.8911\n",
            "Model DecisionTreeClassifier Accuracy: 0.8085\n",
            "Model RandomForestClassifier Accuracy: 0.8568\n",
            "\n",
            " Training Models for News Sentiment Classification \n",
            "Model MultinomialNB Accuracy: 0.6032\n",
            "Model SVC Accuracy: 0.6032\n",
            "Model DecisionTreeClassifier Accuracy: 0.4286\n",
            "Model RandomForestClassifier Accuracy: 0.5079\n"
          ]
        }
      ]
    },
    {
      "cell_type": "markdown",
      "source": [
        "Training Models for Tweet Sentiment Classification\n",
        "* Model MultinomialNB Accuracy: 0.7532\n",
        "* Model SVC Accuracy: 0.8911\n",
        "* Model DecisionTreeClassifier Accuracy: 0.8057\n",
        "* Model RandomForestClassifier Accuracy: 0.8523\n",
        "\n",
        "Training Models for News Sentiment Classification\n",
        "* Model MultinomialNB Accuracy: 0.6032\n",
        "* Model SVC Accuracy: 0.6032\n",
        "* Model DecisionTreeClassifier Accuracy: 0.4762\n",
        "* Model RandomForestClassifier Accuracy: 0.5397\n",
        "\n"
      ],
      "metadata": {
        "id": "tcT7bsxtgd40"
      }
    },
    {
      "cell_type": "code",
      "source": [
        "# # Save the best-performing model for predictions\n",
        "# import joblib\n",
        "# best_model = trained_models['Random Forest']  # Assuming Random Forest performed best\n",
        "# joblib.dump(best_model, \"sentiment_model.pkl\")\n",
        "\n",
        "# print(\"Sentiment Analysis Complete\")"
      ],
      "metadata": {
        "id": "Ng7PGv27E76c"
      },
      "execution_count": null,
      "outputs": []
    },
    {
      "cell_type": "markdown",
      "metadata": {
        "id": "1Mz0epRlEoob"
      },
      "source": [
        "# Sentiment Analysis- tesla"
      ]
    },
    {
      "cell_type": "markdown",
      "source": [
        "ALGORITHMS WORKS !!!"
      ],
      "metadata": {
        "id": "L_E86_qKSxVE"
      }
    },
    {
      "cell_type": "code",
      "execution_count": 27,
      "metadata": {
        "id": "KsuScRGEXniM"
      },
      "outputs": [],
      "source": [
        "import pandas as pd\n",
        "import nltk\n",
        "from nltk.sentiment import SentimentIntensityAnalyzer\n",
        "from textblob import TextBlob\n",
        "\n",
        "# Load datasets\n",
        "tweets_df = pd.read_csv(\"/content/cleaned_tsla_tweets.csv\")\n",
        "news_df = pd.read_csv(\"/content/cleaned_tsla_articles.csv\")\n",
        "\n",
        "# Ensure text column is string type\n",
        "tweets_df['Tweet'] = tweets_df['Tweet'].astype(str)\n",
        "news_df['text'] = news_df['text'].astype(str)"
      ]
    },
    {
      "cell_type": "code",
      "execution_count": 28,
      "metadata": {
        "id": "35c_SFF4Xv2F",
        "colab": {
          "base_uri": "https://localhost:8080/"
        },
        "outputId": "d237aa6f-1cfd-49cd-f900-447cce77482a"
      },
      "outputs": [
        {
          "output_type": "stream",
          "name": "stderr",
          "text": [
            "[nltk_data] Downloading package vader_lexicon to /root/nltk_data...\n",
            "[nltk_data]   Package vader_lexicon is already up-to-date!\n"
          ]
        }
      ],
      "source": [
        "# VADER Sentiment Analysis for Tweets\n",
        "\n",
        "nltk.download('vader_lexicon')\n",
        "sia = SentimentIntensityAnalyzer()\n",
        "# Function to get sentiment score from VADER\n",
        "def get_vader_sentiment(text):\n",
        "    score = sia.polarity_scores(text)['compound']\n",
        "    return 1 if score > 0 else (-1 if score < 0 else 0)\n",
        "\n",
        "# Apply VADER sentiment analysis to tweets\n",
        "tweets_df['sentiment'] = tweets_df['Tweet'].apply(get_vader_sentiment)"
      ]
    },
    {
      "cell_type": "code",
      "execution_count": 29,
      "metadata": {
        "id": "q-26gh4WXxx1",
        "colab": {
          "base_uri": "https://localhost:8080/"
        },
        "outputId": "4114dd84-1e7a-4361-85e5-90e646308f2e"
      },
      "outputs": [
        {
          "output_type": "stream",
          "name": "stdout",
          "text": [
            "Sentiment analysis complete! Results saved.\n"
          ]
        }
      ],
      "source": [
        "# TextBlob Sentiment Analysis for News\n",
        "\n",
        "# Function to get sentiment score from TextBlob\n",
        "def get_textblob_sentiment(text):\n",
        "    score = TextBlob(text).sentiment.polarity\n",
        "    return 1 if score > 0 else (-1 if score < 0 else 0)\n",
        "\n",
        "# Apply TextBlob sentiment analysis to news articles\n",
        "news_df['sentiment'] = news_df['text'].apply(get_textblob_sentiment)\n",
        "\n",
        "news_df['sentiment'] = news_df['sentiment'].astype(int)\n",
        "\n",
        "# Function to get sentiment score from TextBlob\n",
        "# def get_textblob_sentiment(text):\n",
        "#     score = TextBlob(text).sentiment.polarity\n",
        "#     return 1 if score > 0 else (-1 if score < 0 else 0)\n",
        "\n",
        "# # Apply TextBlob sentiment analysis to news articles\n",
        "# news_df['sentiment'] = news_df['text'].apply(get_textblob_sentiment)\n",
        "\n",
        "# # Save sentiment-labeled datasets\n",
        "tweets_df.to_csv(\"sentiment_tsla_tweets.csv\", index=False)\n",
        "news_df.to_csv(\"sentiment_tsla_news.csv\", index=False)\n",
        "\n",
        "print(\"Sentiment analysis complete! Results saved.\")"
      ]
    },
    {
      "cell_type": "code",
      "source": [
        "# print(news_df.head())"
      ],
      "metadata": {
        "id": "lH-Aru61DB3Y"
      },
      "execution_count": 30,
      "outputs": []
    },
    {
      "cell_type": "code",
      "source": [
        "# tweets_df.dropna(subset=['cleaned_tweet'], inplace=True)\n",
        "# news_df.dropna(subset=['text'], inplace=True)\n",
        "\n",
        "# # Ensure text columns are properly formatted\n",
        "# tweets_df['cleaned_tweet'] = tweets_df['cleaned_tweet'].astype(str)\n",
        "# news_df['text'] = news_df['text'].astype(str)\n",
        "\n",
        "# # Remove empty strings\n",
        "# tweets_df = tweets_df[tweets_df['cleaned_tweet'].str.strip() != \"\"]\n",
        "# news_df = news_df[news_df['text'].str.strip() != \"\"]\n",
        "\n",
        "# # Verify again\n",
        "# print(\"Final Check: Missing in tweets:\", tweets_df['cleaned_tweet'].isna().sum())\n",
        "# print(\"Final Check: Missing in news:\", news_df['text'].isna().sum())\n"
      ],
      "metadata": {
        "id": "bWC2GXEmQbyc",
        "colab": {
          "base_uri": "https://localhost:8080/"
        },
        "outputId": "a8345cd4-ea99-490a-9189-98429eba09f7"
      },
      "execution_count": 11,
      "outputs": [
        {
          "output_type": "stream",
          "name": "stdout",
          "text": [
            "Final Check: Missing in tweets: 0\n",
            "Final Check: Missing in news: 0\n"
          ]
        }
      ]
    },
    {
      "cell_type": "code",
      "source": [
        "from sklearn.naive_bayes import MultinomialNB\n",
        "from sklearn.svm import SVC\n",
        "from sklearn.tree import DecisionTreeClassifier\n",
        "from sklearn.ensemble import RandomForestClassifier\n",
        "from sklearn.pipeline import Pipeline\n",
        "from sklearn.metrics import accuracy_score\n",
        "from sklearn.model_selection import train_test_split\n",
        "from sklearn.feature_extraction.text import TfidfVectorizer\n",
        "\n",
        "# Load preprocessed datasets\n",
        "tweets_df = pd.read_csv(\"/content/sentiment_msft_tweets.csv\")\n",
        "news_df = pd.read_csv(\"/content/sentiment_msft_news.csv\")\n",
        "\n",
        "tweets_df = tweets_df.sample(min(10000, len(tweets_df)), random_state=42)\n",
        "news_df = news_df.sample(min(10000, len(news_df)), random_state=42)\n",
        "\n",
        "# Train-test split for Tweets\n",
        "X_tweets, X_test_tweets, y_tweets, y_test_tweets = train_test_split(\n",
        "    tweets_df['cleaned_tweet'], tweets_df['sentiment'], test_size=0.2, random_state=42\n",
        ")\n",
        "\n",
        "# Train-test split for News\n",
        "X_news, X_test_news, y_news, y_test_news = train_test_split(\n",
        "    news_df['text'], news_df['sentiment'], test_size=0.2, random_state=42\n",
        ")\n",
        "\n",
        "# Function to train models\n",
        "def train_model(X_train, y_train, X_test, y_test, model):\n",
        "    pipeline = Pipeline([\n",
        "        ('tfidf', TfidfVectorizer(max_features=5000)),\n",
        "        ('classifier', model)\n",
        "    ])\n",
        "    pipeline.fit(X_train, y_train)\n",
        "    predictions = pipeline.predict(X_test)\n",
        "    accuracy = accuracy_score(y_test, predictions)\n",
        "    print(f\"Model {model.__class__.__name__} Accuracy: {accuracy:.4f}\")\n",
        "    return pipeline\n",
        "\n",
        "# Models to Train\n",
        "models = {\n",
        "    'Naïve Bayes': MultinomialNB(),\n",
        "    'SVM': SVC(kernel='linear'),\n",
        "    'Decision Tree': DecisionTreeClassifier(),\n",
        "    'Random Forest': RandomForestClassifier(n_estimators=100)\n",
        "}\n",
        "\n",
        "# Train models for Tweets\n",
        "print(\"\\n Training Models for Tweet Sentiment Classification \")\n",
        "trained_models_tweets = {\n",
        "    name: train_model(X_tweets, y_tweets, X_test_tweets, y_test_tweets, model)\n",
        "    for name, model in models.items()\n",
        "}\n",
        "\n",
        "# Train models for News\n",
        "print(\"\\n Training Models for News Sentiment Classification \")\n",
        "trained_models_news = {\n",
        "    name: train_model(X_news, y_news, X_test_news, y_test_news, model)\n",
        "    for name, model in models.items()\n",
        "}\n"
      ],
      "metadata": {
        "colab": {
          "base_uri": "https://localhost:8080/"
        },
        "id": "0WhdsIfQ4Gy-",
        "outputId": "b9b07709-23e8-4e57-91c9-3f96c51642f0"
      },
      "execution_count": 31,
      "outputs": [
        {
          "output_type": "stream",
          "name": "stdout",
          "text": [
            "\n",
            " Training Models for Tweet Sentiment Classification \n",
            "Model MultinomialNB Accuracy: 0.7215\n",
            "Model SVC Accuracy: 0.8285\n",
            "Model DecisionTreeClassifier Accuracy: 0.7720\n",
            "Model RandomForestClassifier Accuracy: 0.7880\n",
            "\n",
            " Training Models for News Sentiment Classification \n",
            "Model MultinomialNB Accuracy: 0.5873\n",
            "Model SVC Accuracy: 0.5556\n",
            "Model DecisionTreeClassifier Accuracy: 0.5397\n",
            "Model RandomForestClassifier Accuracy: 0.5238\n"
          ]
        }
      ]
    },
    {
      "cell_type": "markdown",
      "source": [
        "Training Models for Tweet Sentiment Classification\n",
        "*   Model MultinomialNB Accuracy: 0.7215\n",
        "*   Model SVC Accuracy: 0.8285\n",
        "*   Model DecisionTreeClassifier Accuracy: 0.7720\n",
        "*   Model RandomForestClassifier Accuracy: 0.7880\n",
        "\n",
        "\n",
        "Training Models for News Sentiment Classification\n",
        "*   Model MultinomialNB Accuracy: 0.5873\n",
        "*   Model SVC Accuracy: 0.5556\n",
        "*   Model DecisionTreeClassifier Accuracy: 0.5397\n",
        "*   Model RandomForestClassifier Accuracy: 0.5238\n"
      ],
      "metadata": {
        "id": "YR9q619vF528"
      }
    },
    {
      "cell_type": "markdown",
      "metadata": {
        "id": "RwZ_x93P_CL0"
      },
      "source": [
        "# Merging - Microsoft\n"
      ]
    },
    {
      "cell_type": "code",
      "execution_count": 32,
      "metadata": {
        "id": "MOOOtCrJ_Erw"
      },
      "outputs": [],
      "source": [
        "import pandas as pd\n",
        "\n",
        "# Load datasets\n",
        "stock_data = pd.read_csv(\"/content/msft_2019.csv\")\n",
        "tweets_sentiment = pd.read_csv(\"/content/sentiment_msft_tweets.csv\")\n",
        "news_sentiment = pd.read_csv(\"/content/sentiment_msft_news.csv\")"
      ]
    },
    {
      "cell_type": "code",
      "execution_count": 33,
      "metadata": {
        "id": "3meXu3Bn_I4W"
      },
      "outputs": [],
      "source": [
        "# Convert date columns to datetime\n",
        "stock_data['day_date'] = pd.to_datetime(stock_data['day_date'])\n",
        "tweets_sentiment['date'] = pd.to_datetime(tweets_sentiment['date'])\n",
        "news_sentiment['date'] = pd.to_datetime(news_sentiment['date'])"
      ]
    },
    {
      "cell_type": "code",
      "execution_count": 34,
      "metadata": {
        "id": "2kEJIXf7_nlC"
      },
      "outputs": [],
      "source": [
        "# Extract Month-Day format (MM-DD)\n",
        "stock_data['month_day'] = stock_data['day_date'].dt.strftime('%m-%d')\n",
        "tweets_sentiment['month_day'] = tweets_sentiment['date'].dt.strftime('%m-%d')\n",
        "news_sentiment['month_day'] = news_sentiment['date'].dt.strftime('%m-%d')"
      ]
    },
    {
      "cell_type": "code",
      "execution_count": 35,
      "metadata": {
        "id": "Nu4pkD6WMPd0"
      },
      "outputs": [],
      "source": [
        "# # Drop original 'date' columns (Optional)\n",
        "# stock_data.drop(columns=['day_date'], inplace=True)\n",
        "# tweets_sentiment.drop(columns=['date'], inplace=True)\n",
        "# news_sentiment.drop(columns=['date'], inplace=True)"
      ]
    },
    {
      "cell_type": "code",
      "execution_count": 36,
      "metadata": {
        "id": "yGlNKkuHW9uR"
      },
      "outputs": [],
      "source": [
        "# Stock & Tweets\n",
        "stock_tweet_merged = stock_data.merge(tweets_sentiment, on='month_day', how='left')\n",
        "stock_tweet_merged.fillna(0, inplace=True)\n",
        "stock_tweet_merged = stock_tweet_merged.rename(columns={'sentiment_vader': 'tweet_sentiment'})\n",
        "stock_tweet_merged.to_csv(\"Merge_MSFT_TWEET.csv\", index=False)"
      ]
    },
    {
      "cell_type": "code",
      "execution_count": 37,
      "metadata": {
        "id": "yn7ufmAZL28I",
        "colab": {
          "base_uri": "https://localhost:8080/"
        },
        "outputId": "9ba3e2c6-064d-416a-d9ff-65f4398d3759"
      },
      "outputs": [
        {
          "output_type": "stream",
          "name": "stdout",
          "text": [
            " Merging done! Two separate files created: one for Tweets, one for News.\n"
          ]
        },
        {
          "output_type": "stream",
          "name": "stderr",
          "text": [
            "<ipython-input-37-225be7571668>:3: FutureWarning: Setting an item of incompatible dtype is deprecated and will raise an error in a future version of pandas. Value '0' has dtype incompatible with datetime64[ns], please explicitly cast to a compatible dtype first.\n",
            "  stock_news_merged.fillna(0, inplace=True)\n"
          ]
        }
      ],
      "source": [
        "# Stock & News\n",
        "stock_news_merged = stock_data.merge(news_sentiment, on='month_day', how='left')\n",
        "stock_news_merged.fillna(0, inplace=True)\n",
        "stock_news_merged = stock_news_merged.rename(columns={'sentiment': 'news_sentiment'})\n",
        "stock_news_merged.to_csv(\"Merge_MSFT_NEWS.csv\", index=False)\n",
        "\n",
        "print(\" Merging done! Two separate files created: one for Tweets, one for News.\")"
      ]
    },
    {
      "cell_type": "markdown",
      "metadata": {
        "id": "6GdhrQULVY5w"
      },
      "source": [
        "# Merging - Tesla"
      ]
    },
    {
      "cell_type": "code",
      "execution_count": 38,
      "metadata": {
        "id": "DQzd4PPiMgjx"
      },
      "outputs": [],
      "source": [
        "import pandas as pd\n",
        "\n",
        "# Load datasets (assuming they are already preprocessed)\n",
        "stock_data = pd.read_csv(\"/content/tsla_2019.csv\")\n",
        "tweets_sentiment = pd.read_csv(\"/content/sentiment_tsla_tweets.csv\")\n",
        "news_sentiment = pd.read_csv(\"/content/sentiment_tsla_news.csv\")"
      ]
    },
    {
      "cell_type": "code",
      "execution_count": 39,
      "metadata": {
        "id": "4t4Q5R54VjSf"
      },
      "outputs": [],
      "source": [
        "# Convert date columns to datetime\n",
        "stock_data['day_date'] = pd.to_datetime(stock_data['day_date'])\n",
        "tweets_sentiment['date'] = pd.to_datetime(tweets_sentiment['date'])\n",
        "news_sentiment['date'] = pd.to_datetime(news_sentiment['date'])"
      ]
    },
    {
      "cell_type": "code",
      "execution_count": 40,
      "metadata": {
        "id": "WVJFCM22Vk2l"
      },
      "outputs": [],
      "source": [
        "# Extract Month-Day format (MM-DD)\n",
        "stock_data['month_day'] = stock_data['day_date'].dt.strftime('%m-%d')\n",
        "tweets_sentiment['month_day'] = tweets_sentiment['date'].dt.strftime('%m-%d')\n",
        "news_sentiment['month_day'] = news_sentiment['date'].dt.strftime('%m-%d')"
      ]
    },
    {
      "cell_type": "code",
      "source": [
        "# Stock & Tweets\n",
        "stock_tweet_merged = stock_data.merge(tweets_sentiment, on='month_day', how='left')\n",
        "stock_tweet_merged.fillna(0, inplace=True)\n",
        "stock_tweet_merged = stock_tweet_merged.rename(columns={'sentiment_vader': 'tweet_sentiment'})\n",
        "stock_tweet_merged.to_csv(\"Merge_TSLA_TWEET.csv\", index=False)"
      ],
      "metadata": {
        "id": "3HuglepuUq9p"
      },
      "execution_count": 41,
      "outputs": []
    },
    {
      "cell_type": "code",
      "source": [
        "# Stock & News\n",
        "stock_news_merged = stock_data.merge(news_sentiment, on='month_day', how='left')\n",
        "stock_news_merged.fillna(0, inplace=True)\n",
        "stock_news_merged = stock_news_merged.rename(columns={'sentiment': 'news_sentiment'})\n",
        "stock_news_merged.to_csv(\"Merge_TSLA_NEWS.csv\", index=False)\n",
        "\n",
        "print(\" Merging done! Two separate files created: one for Tweets, one for News.\")"
      ],
      "metadata": {
        "id": "Ut3k4nQaUuRJ",
        "colab": {
          "base_uri": "https://localhost:8080/"
        },
        "outputId": "7e8ef7f0-20b6-46ec-a3b7-f2d1585973e4"
      },
      "execution_count": 42,
      "outputs": [
        {
          "output_type": "stream",
          "name": "stdout",
          "text": [
            " Merging done! Two separate files created: one for Tweets, one for News.\n"
          ]
        },
        {
          "output_type": "stream",
          "name": "stderr",
          "text": [
            "<ipython-input-42-df03a4931140>:3: FutureWarning: Setting an item of incompatible dtype is deprecated and will raise an error in a future version of pandas. Value '0' has dtype incompatible with datetime64[ns], please explicitly cast to a compatible dtype first.\n",
            "  stock_news_merged.fillna(0, inplace=True)\n"
          ]
        }
      ]
    },
    {
      "cell_type": "markdown",
      "metadata": {
        "id": "lpHk36XNrwZL"
      },
      "source": [
        "# Data Analysis (Microsoft)"
      ]
    },
    {
      "cell_type": "code",
      "source": [
        "import pandas as pd\n",
        "import numpy as np\n",
        "\n",
        "# Load both datasets\n",
        "stock_tweet = pd.read_csv(\"/content/Merge_MSFT_TWEET.csv\")\n",
        "stock_news = pd.read_csv(\"/content/Merge_MSFT_NEWS.csv\")\n",
        "\n",
        "# Convert 'month_day' to datetime format\n",
        "stock_tweet['month_day'] = pd.to_datetime(stock_tweet['month_day'], format='%m-%d')\n",
        "stock_news['month_day'] = pd.to_datetime(stock_news['month_day'], format='%m-%d')\n",
        "\n",
        "# Sort data chronologically\n",
        "stock_tweet = stock_tweet.sort_values('month_day')\n",
        "stock_news = stock_news.sort_values('month_day')\n",
        "\n",
        "# Feature Engineering\n",
        "for df in [stock_tweet, stock_news]:\n",
        "    df['5_day_avg'] = df['close_value'].rolling(window=5).mean()\n",
        "    df['10_day_avg'] = df['close_value'].rolling(window=10).mean()\n",
        "    df['volatility'] = df['close_value'].pct_change().rolling(window=5).std()\n",
        "    df.fillna(0, inplace=True)  # Fill missing values\n",
        "\n",
        "# Save new files\n",
        "stock_tweet.to_csv(\"MSFT_FEATURED_TWEET.csv\", index=False)\n",
        "stock_news.to_csv(\"MSFT_FEATURED_NEWS.csv\", index=False)\n",
        "\n",
        "print(\" Feature Engineering Completed for Both Files!\")\n"
      ],
      "metadata": {
        "id": "u-udlLdQ0j5O",
        "colab": {
          "base_uri": "https://localhost:8080/"
        },
        "outputId": "bf83c410-a3ad-49f5-e469-130791bc4af6"
      },
      "execution_count": 43,
      "outputs": [
        {
          "output_type": "stream",
          "name": "stdout",
          "text": [
            " Feature Engineering Completed for Both Files!\n"
          ]
        }
      ]
    },
    {
      "cell_type": "code",
      "source": [
        "import numpy as np\n",
        "import tensorflow as tf\n",
        "from sklearn.preprocessing import MinMaxScaler\n",
        "from tensorflow.keras.models import Sequential\n",
        "from tensorflow.keras.layers import LSTM, Dense, Dropout\n",
        "\n",
        "# Load Tweet Data\n",
        "tweet_data = pd.read_csv(\"/content/MSFT_FEATURED_TWEET.csv\")\n",
        "\n",
        "# Scale Features\n",
        "scaler = MinMaxScaler(feature_range=(0, 1))\n",
        "scaled_data = scaler.fit_transform(tweet_data[['close_value', 'sentiment', '5_day_avg', '10_day_avg', 'volatility']])\n",
        "\n",
        "# Prepare Data for LSTM\n",
        "X, y = [], []\n",
        "for i in range(30, len(scaled_data)):\n",
        "    X.append(scaled_data[i-30:i])\n",
        "    y.append(scaled_data[i, 0])\n",
        "\n",
        "X, y = np.array(X), np.array(y)\n",
        "\n",
        "# Build LSTM Model\n",
        "model_tweet = Sequential()\n",
        "model_tweet.add(LSTM(units=50, return_sequences=True, input_shape=(X.shape[1], X.shape[2])))\n",
        "model_tweet.add(Dropout(0.2))\n",
        "model_tweet.add(LSTM(units=50))\n",
        "model_tweet.add(Dropout(0.2))\n",
        "model_tweet.add(Dense(units=1))\n",
        "\n",
        "model_tweet.compile(optimizer='adam', loss='mean_squared_error')\n",
        "model_tweet.fit(X, y, epochs=10, batch_size=32)\n",
        "\n",
        "# Save Model\n",
        "model_tweet.save(\"LSTM_MSFT_TWEET.h5\")\n",
        "\n",
        "print(\" LSTM Model Trained for Tweet Sentiment!\")\n"
      ],
      "metadata": {
        "id": "Jagdrk5rWK8Y",
        "colab": {
          "base_uri": "https://localhost:8080/"
        },
        "outputId": "8d4ba5d7-7326-4080-e4dd-71d915f86c98"
      },
      "execution_count": 44,
      "outputs": [
        {
          "output_type": "stream",
          "name": "stderr",
          "text": [
            "/usr/local/lib/python3.11/dist-packages/keras/src/layers/rnn/rnn.py:200: UserWarning: Do not pass an `input_shape`/`input_dim` argument to a layer. When using Sequential models, prefer using an `Input(shape)` object as the first layer in the model instead.\n",
            "  super().__init__(**kwargs)\n"
          ]
        },
        {
          "output_type": "stream",
          "name": "stdout",
          "text": [
            "Epoch 1/10\n",
            "\u001b[1m1796/1796\u001b[0m \u001b[32m━━━━━━━━━━━━━━━━━━━━\u001b[0m\u001b[37m\u001b[0m \u001b[1m60s\u001b[0m 31ms/step - loss: 0.0070\n",
            "Epoch 2/10\n",
            "\u001b[1m1796/1796\u001b[0m \u001b[32m━━━━━━━━━━━━━━━━━━━━\u001b[0m\u001b[37m\u001b[0m \u001b[1m82s\u001b[0m 31ms/step - loss: 0.0011\n",
            "Epoch 3/10\n",
            "\u001b[1m1796/1796\u001b[0m \u001b[32m━━━━━━━━━━━━━━━━━━━━\u001b[0m\u001b[37m\u001b[0m \u001b[1m79s\u001b[0m 30ms/step - loss: 5.7812e-04\n",
            "Epoch 4/10\n",
            "\u001b[1m1796/1796\u001b[0m \u001b[32m━━━━━━━━━━━━━━━━━━━━\u001b[0m\u001b[37m\u001b[0m \u001b[1m84s\u001b[0m 31ms/step - loss: 4.4507e-04\n",
            "Epoch 5/10\n",
            "\u001b[1m1796/1796\u001b[0m \u001b[32m━━━━━━━━━━━━━━━━━━━━\u001b[0m\u001b[37m\u001b[0m \u001b[1m82s\u001b[0m 31ms/step - loss: 4.3611e-04\n",
            "Epoch 6/10\n",
            "\u001b[1m1796/1796\u001b[0m \u001b[32m━━━━━━━━━━━━━━━━━━━━\u001b[0m\u001b[37m\u001b[0m \u001b[1m87s\u001b[0m 34ms/step - loss: 4.2871e-04\n",
            "Epoch 7/10\n",
            "\u001b[1m1796/1796\u001b[0m \u001b[32m━━━━━━━━━━━━━━━━━━━━\u001b[0m\u001b[37m\u001b[0m \u001b[1m77s\u001b[0m 31ms/step - loss: 4.2286e-04\n",
            "Epoch 8/10\n",
            "\u001b[1m1796/1796\u001b[0m \u001b[32m━━━━━━━━━━━━━━━━━━━━\u001b[0m\u001b[37m\u001b[0m \u001b[1m53s\u001b[0m 30ms/step - loss: 4.0990e-04\n",
            "Epoch 9/10\n",
            "\u001b[1m1796/1796\u001b[0m \u001b[32m━━━━━━━━━━━━━━━━━━━━\u001b[0m\u001b[37m\u001b[0m \u001b[1m86s\u001b[0m 32ms/step - loss: 3.9768e-04\n",
            "Epoch 10/10\n",
            "\u001b[1m1796/1796\u001b[0m \u001b[32m━━━━━━━━━━━━━━━━━━━━\u001b[0m\u001b[37m\u001b[0m \u001b[1m78s\u001b[0m 30ms/step - loss: 4.0152e-04\n"
          ]
        },
        {
          "output_type": "stream",
          "name": "stderr",
          "text": [
            "WARNING:absl:You are saving your model as an HDF5 file via `model.save()` or `keras.saving.save_model(model)`. This file format is considered legacy. We recommend using instead the native Keras format, e.g. `model.save('my_model.keras')` or `keras.saving.save_model(model, 'my_model.keras')`. \n"
          ]
        },
        {
          "output_type": "stream",
          "name": "stdout",
          "text": [
            " LSTM Model Trained for Tweet Sentiment!\n"
          ]
        }
      ]
    },
    {
      "cell_type": "markdown",
      "source": [
        "**wait time for above compiling is almost 15 mins or so**"
      ],
      "metadata": {
        "id": "Yrcf2iKWFvt9"
      }
    },
    {
      "cell_type": "code",
      "source": [
        "# Load News Data\n",
        "news_data = pd.read_csv(\"/content/MSFT_FEATURED_NEWS.csv\")\n",
        "\n",
        "# Scale Features\n",
        "scaled_news_data = scaler.fit_transform(news_data[['close_value', 'news_sentiment', '5_day_avg', '10_day_avg', 'volatility']])\n",
        "\n",
        "# Prepare Data for LSTM\n",
        "X_news, y_news = [], []\n",
        "for i in range(30, len(scaled_news_data)):\n",
        "    X_news.append(scaled_news_data[i-30:i])\n",
        "    y_news.append(scaled_news_data[i, 0])\n",
        "\n",
        "X_news, y_news = np.array(X_news), np.array(y_news)\n",
        "\n",
        "# Build LSTM Model\n",
        "model_news = Sequential()\n",
        "model_news.add(LSTM(units=50, return_sequences=True, input_shape=(X_news.shape[1], X_news.shape[2])))\n",
        "model_news.add(Dropout(0.2))\n",
        "model_news.add(LSTM(units=50))\n",
        "model_news.add(Dropout(0.2))\n",
        "model_news.add(Dense(units=1))\n",
        "\n",
        "model_news.compile(optimizer='adam', loss='mean_squared_error')\n",
        "model_news.fit(X_news, y_news, epochs=20, batch_size=32)\n",
        "\n",
        "# Save Model\n",
        "model_news.save(\"LSTM_MSFT_NEWS.h5\")\n",
        "\n",
        "print(\"✅ LSTM Model Trained for News Sentiment!\")\n"
      ],
      "metadata": {
        "id": "lmGhYB19Hsdo",
        "colab": {
          "base_uri": "https://localhost:8080/"
        },
        "outputId": "b0a75f3e-d5ba-4e10-ffe7-1a3291e8c73f"
      },
      "execution_count": 45,
      "outputs": [
        {
          "output_type": "stream",
          "name": "stderr",
          "text": [
            "/usr/local/lib/python3.11/dist-packages/keras/src/layers/rnn/rnn.py:200: UserWarning: Do not pass an `input_shape`/`input_dim` argument to a layer. When using Sequential models, prefer using an `Input(shape)` object as the first layer in the model instead.\n",
            "  super().__init__(**kwargs)\n"
          ]
        },
        {
          "output_type": "stream",
          "name": "stdout",
          "text": [
            "Epoch 1/20\n",
            "\u001b[1m15/15\u001b[0m \u001b[32m━━━━━━━━━━━━━━━━━━━━\u001b[0m\u001b[37m\u001b[0m \u001b[1m5s\u001b[0m 27ms/step - loss: 0.1458\n",
            "Epoch 2/20\n",
            "\u001b[1m15/15\u001b[0m \u001b[32m━━━━━━━━━━━━━━━━━━━━\u001b[0m\u001b[37m\u001b[0m \u001b[1m1s\u001b[0m 28ms/step - loss: 0.0326\n",
            "Epoch 3/20\n",
            "\u001b[1m15/15\u001b[0m \u001b[32m━━━━━━━━━━━━━━━━━━━━\u001b[0m\u001b[37m\u001b[0m \u001b[1m1s\u001b[0m 28ms/step - loss: 0.0133\n",
            "Epoch 4/20\n",
            "\u001b[1m15/15\u001b[0m \u001b[32m━━━━━━━━━━━━━━━━━━━━\u001b[0m\u001b[37m\u001b[0m \u001b[1m1s\u001b[0m 28ms/step - loss: 0.0079\n",
            "Epoch 5/20\n",
            "\u001b[1m15/15\u001b[0m \u001b[32m━━━━━━━━━━━━━━━━━━━━\u001b[0m\u001b[37m\u001b[0m \u001b[1m1s\u001b[0m 29ms/step - loss: 0.0065\n",
            "Epoch 6/20\n",
            "\u001b[1m15/15\u001b[0m \u001b[32m━━━━━━━━━━━━━━━━━━━━\u001b[0m\u001b[37m\u001b[0m \u001b[1m0s\u001b[0m 29ms/step - loss: 0.0079\n",
            "Epoch 7/20\n",
            "\u001b[1m15/15\u001b[0m \u001b[32m━━━━━━━━━━━━━━━━━━━━\u001b[0m\u001b[37m\u001b[0m \u001b[1m1s\u001b[0m 28ms/step - loss: 0.0061\n",
            "Epoch 8/20\n",
            "\u001b[1m15/15\u001b[0m \u001b[32m━━━━━━━━━━━━━━━━━━━━\u001b[0m\u001b[37m\u001b[0m \u001b[1m0s\u001b[0m 29ms/step - loss: 0.0054\n",
            "Epoch 9/20\n",
            "\u001b[1m15/15\u001b[0m \u001b[32m━━━━━━━━━━━━━━━━━━━━\u001b[0m\u001b[37m\u001b[0m \u001b[1m0s\u001b[0m 30ms/step - loss: 0.0056\n",
            "Epoch 10/20\n",
            "\u001b[1m15/15\u001b[0m \u001b[32m━━━━━━━━━━━━━━━━━━━━\u001b[0m\u001b[37m\u001b[0m \u001b[1m1s\u001b[0m 28ms/step - loss: 0.0051\n",
            "Epoch 11/20\n",
            "\u001b[1m15/15\u001b[0m \u001b[32m━━━━━━━━━━━━━━━━━━━━\u001b[0m\u001b[37m\u001b[0m \u001b[1m0s\u001b[0m 27ms/step - loss: 0.0056\n",
            "Epoch 12/20\n",
            "\u001b[1m15/15\u001b[0m \u001b[32m━━━━━━━━━━━━━━━━━━━━\u001b[0m\u001b[37m\u001b[0m \u001b[1m0s\u001b[0m 29ms/step - loss: 0.0046\n",
            "Epoch 13/20\n",
            "\u001b[1m15/15\u001b[0m \u001b[32m━━━━━━━━━━━━━━━━━━━━\u001b[0m\u001b[37m\u001b[0m \u001b[1m1s\u001b[0m 29ms/step - loss: 0.0045\n",
            "Epoch 14/20\n",
            "\u001b[1m15/15\u001b[0m \u001b[32m━━━━━━━━━━━━━━━━━━━━\u001b[0m\u001b[37m\u001b[0m \u001b[1m1s\u001b[0m 28ms/step - loss: 0.0044\n",
            "Epoch 15/20\n",
            "\u001b[1m15/15\u001b[0m \u001b[32m━━━━━━━━━━━━━━━━━━━━\u001b[0m\u001b[37m\u001b[0m \u001b[1m0s\u001b[0m 28ms/step - loss: 0.0048\n",
            "Epoch 16/20\n",
            "\u001b[1m15/15\u001b[0m \u001b[32m━━━━━━━━━━━━━━━━━━━━\u001b[0m\u001b[37m\u001b[0m \u001b[1m1s\u001b[0m 29ms/step - loss: 0.0047\n",
            "Epoch 17/20\n",
            "\u001b[1m15/15\u001b[0m \u001b[32m━━━━━━━━━━━━━━━━━━━━\u001b[0m\u001b[37m\u001b[0m \u001b[1m0s\u001b[0m 27ms/step - loss: 0.0052\n",
            "Epoch 18/20\n",
            "\u001b[1m15/15\u001b[0m \u001b[32m━━━━━━━━━━━━━━━━━━━━\u001b[0m\u001b[37m\u001b[0m \u001b[1m0s\u001b[0m 28ms/step - loss: 0.0044\n",
            "Epoch 19/20\n",
            "\u001b[1m15/15\u001b[0m \u001b[32m━━━━━━━━━━━━━━━━━━━━\u001b[0m\u001b[37m\u001b[0m \u001b[1m1s\u001b[0m 45ms/step - loss: 0.0043\n",
            "Epoch 20/20\n",
            "\u001b[1m15/15\u001b[0m \u001b[32m━━━━━━━━━━━━━━━━━━━━\u001b[0m\u001b[37m\u001b[0m \u001b[1m1s\u001b[0m 45ms/step - loss: 0.0049\n"
          ]
        },
        {
          "output_type": "stream",
          "name": "stderr",
          "text": [
            "WARNING:absl:You are saving your model as an HDF5 file via `model.save()` or `keras.saving.save_model(model)`. This file format is considered legacy. We recommend using instead the native Keras format, e.g. `model.save('my_model.keras')` or `keras.saving.save_model(model, 'my_model.keras')`. \n"
          ]
        },
        {
          "output_type": "stream",
          "name": "stdout",
          "text": [
            "✅ LSTM Model Trained for News Sentiment!\n"
          ]
        }
      ]
    },
    {
      "cell_type": "code",
      "source": [
        "from sklearn.metrics import mean_absolute_error, mean_squared_error\n",
        "import numpy as np\n",
        "\n",
        "# Predictions\n",
        "tweet_pred = model_tweet.predict(X)\n",
        "news_pred = model_news.predict(X_news)\n",
        "\n",
        "# Evaluation\n",
        "def evaluate_model(y_true, y_pred, model_name):\n",
        "    mae = mean_absolute_error(y_true, y_pred)\n",
        "    rmse = np.sqrt(mean_squared_error(y_true, y_pred))\n",
        "    print(f\"{model_name} - MAE: {mae:.4f}, RMSE: {rmse:.4f}\")\n",
        "\n",
        "evaluate_model(y, tweet_pred, \"LSTM Tweet Model\")\n",
        "evaluate_model(y_news, news_pred, \"LSTM News Model\")\n",
        "# y_pred = model_tweet.predict(X_test)  # Ensure model exists and has been trained"
      ],
      "metadata": {
        "id": "fHmV6i3TMtch",
        "colab": {
          "base_uri": "https://localhost:8080/"
        },
        "outputId": "4720eadc-6131-4478-c72a-a92b97c08cfd"
      },
      "execution_count": 46,
      "outputs": [
        {
          "output_type": "stream",
          "name": "stdout",
          "text": [
            "\u001b[1m1796/1796\u001b[0m \u001b[32m━━━━━━━━━━━━━━━━━━━━\u001b[0m\u001b[37m\u001b[0m \u001b[1m18s\u001b[0m 10ms/step\n",
            "\u001b[1m15/15\u001b[0m \u001b[32m━━━━━━━━━━━━━━━━━━━━\u001b[0m\u001b[37m\u001b[0m \u001b[1m1s\u001b[0m 29ms/step\n",
            "LSTM Tweet Model - MAE: 0.0045, RMSE: 0.0055\n",
            "LSTM News Model - MAE: 0.0276, RMSE: 0.0355\n"
          ]
        }
      ]
    },
    {
      "cell_type": "markdown",
      "source": [
        "# Data Analysis (Tesla)"
      ],
      "metadata": {
        "id": "W6lUyopWDhaD"
      }
    },
    {
      "cell_type": "code",
      "source": [
        "import pandas as pd\n",
        "import numpy as np\n",
        "\n",
        "# Load both datasets\n",
        "stock_tweet = pd.read_csv(\"/content/Merge_TSLA_TWEET.csv\")\n",
        "stock_news = pd.read_csv(\"/content/Merge_TSLA_NEWS.csv\")\n",
        "\n",
        "# Convert 'month_day' to datetime format\n",
        "stock_tweet['month_day'] = pd.to_datetime(stock_tweet['month_day'], format='%m-%d')\n",
        "stock_news['month_day'] = pd.to_datetime(stock_news['month_day'], format='%m-%d')\n",
        "\n",
        "# Sort data chronologically\n",
        "stock_tweet = stock_tweet.sort_values('month_day')\n",
        "stock_news = stock_news.sort_values('month_day')\n",
        "\n",
        "# Feature Engineering\n",
        "for df in [stock_tweet, stock_news]:\n",
        "    df['5_day_avg'] = df['close_value'].rolling(window=5).mean()\n",
        "    df['10_day_avg'] = df['close_value'].rolling(window=10).mean()\n",
        "    df['volatility'] = df['close_value'].pct_change().rolling(window=5).std()\n",
        "    df.fillna(0, inplace=True)  # Fill missing values\n",
        "\n",
        "# Save new files\n",
        "stock_tweet.to_csv(\"TSLA_FEATURED_TWEET.csv\", index=False)\n",
        "stock_news.to_csv(\"TSLA_FEATURED_NEWS.csv\", index=False)\n",
        "\n",
        "print(\" Feature Engineering Completed for Both Files!\")\n"
      ],
      "metadata": {
        "id": "NUqsjBYBPrdP",
        "colab": {
          "base_uri": "https://localhost:8080/"
        },
        "outputId": "4ff52aac-d706-498b-8567-85b715f8512b"
      },
      "execution_count": 47,
      "outputs": [
        {
          "output_type": "stream",
          "name": "stdout",
          "text": [
            " Feature Engineering Completed for Both Files!\n"
          ]
        }
      ]
    },
    {
      "cell_type": "code",
      "source": [
        "import numpy as np\n",
        "import tensorflow as tf\n",
        "from sklearn.preprocessing import MinMaxScaler\n",
        "from tensorflow.keras.models import Sequential\n",
        "from tensorflow.keras.layers import LSTM, Dense, Dropout\n",
        "\n",
        "# Load Tweet Data\n",
        "tweet_data = pd.read_csv(\"/content/TSLA_FEATURED_TWEET.csv\")\n",
        "\n",
        "# Scale Features\n",
        "scaler = MinMaxScaler(feature_range=(0, 1))\n",
        "scaled_data = scaler.fit_transform(tweet_data[['close_value', 'sentiment', '5_day_avg', '10_day_avg', 'volatility']])\n",
        "\n",
        "# Prepare Data for LSTM\n",
        "X, y = [], []\n",
        "for i in range(30, len(scaled_data)):\n",
        "    X.append(scaled_data[i-30:i])\n",
        "    y.append(scaled_data[i, 0])\n",
        "\n",
        "X, y = np.array(X), np.array(y)\n",
        "\n",
        "# Build LSTM Model\n",
        "model_tweet = Sequential()\n",
        "model_tweet.add(LSTM(units=50, return_sequences=True, input_shape=(X.shape[1], X.shape[2])))\n",
        "model_tweet.add(Dropout(0.2))\n",
        "model_tweet.add(LSTM(units=50))\n",
        "model_tweet.add(Dropout(0.2))\n",
        "model_tweet.add(Dense(units=1))\n",
        "\n",
        "model_tweet.compile(optimizer='adam', loss='mean_squared_error')\n",
        "model_tweet.fit(X, y, epochs=7, batch_size=32)\n",
        "\n",
        "# Save Model\n",
        "model_tweet.save(\"LSTM_TSLA_TWEET.h5\")\n",
        "\n",
        "print(\" LSTM Model Trained for Tweet Sentiment!\")\n"
      ],
      "metadata": {
        "colab": {
          "base_uri": "https://localhost:8080/"
        },
        "id": "Zs8reiH1Dooh",
        "outputId": "86cb7a88-2b1c-4bed-c0e7-ee6aef5dc92a"
      },
      "execution_count": 48,
      "outputs": [
        {
          "output_type": "stream",
          "name": "stderr",
          "text": [
            "/usr/local/lib/python3.11/dist-packages/keras/src/layers/rnn/rnn.py:200: UserWarning: Do not pass an `input_shape`/`input_dim` argument to a layer. When using Sequential models, prefer using an `Input(shape)` object as the first layer in the model instead.\n",
            "  super().__init__(**kwargs)\n"
          ]
        },
        {
          "output_type": "stream",
          "name": "stdout",
          "text": [
            "Epoch 1/7\n",
            "\u001b[1m11358/11358\u001b[0m \u001b[32m━━━━━━━━━━━━━━━━━━━━\u001b[0m\u001b[37m\u001b[0m \u001b[1m361s\u001b[0m 31ms/step - loss: 0.0015\n",
            "Epoch 2/7\n",
            "\u001b[1m11358/11358\u001b[0m \u001b[32m━━━━━━━━━━━━━━━━━━━━\u001b[0m\u001b[37m\u001b[0m \u001b[1m371s\u001b[0m 33ms/step - loss: 3.2266e-04\n",
            "Epoch 3/7\n",
            "\u001b[1m11358/11358\u001b[0m \u001b[32m━━━━━━━━━━━━━━━━━━━━\u001b[0m\u001b[37m\u001b[0m \u001b[1m353s\u001b[0m 31ms/step - loss: 2.9954e-04\n",
            "Epoch 4/7\n",
            "\u001b[1m11358/11358\u001b[0m \u001b[32m━━━━━━━━━━━━━━━━━━━━\u001b[0m\u001b[37m\u001b[0m \u001b[1m382s\u001b[0m 31ms/step - loss: 2.9170e-04\n",
            "Epoch 5/7\n",
            "\u001b[1m11358/11358\u001b[0m \u001b[32m━━━━━━━━━━━━━━━━━━━━\u001b[0m\u001b[37m\u001b[0m \u001b[1m390s\u001b[0m 32ms/step - loss: 2.8555e-04\n",
            "Epoch 6/7\n",
            "\u001b[1m11358/11358\u001b[0m \u001b[32m━━━━━━━━━━━━━━━━━━━━\u001b[0m\u001b[37m\u001b[0m \u001b[1m357s\u001b[0m 31ms/step - loss: 2.8475e-04\n",
            "Epoch 7/7\n",
            "\u001b[1m11358/11358\u001b[0m \u001b[32m━━━━━━━━━━━━━━━━━━━━\u001b[0m\u001b[37m\u001b[0m \u001b[1m381s\u001b[0m 31ms/step - loss: 2.7793e-04\n"
          ]
        },
        {
          "output_type": "stream",
          "name": "stderr",
          "text": [
            "WARNING:absl:You are saving your model as an HDF5 file via `model.save()` or `keras.saving.save_model(model)`. This file format is considered legacy. We recommend using instead the native Keras format, e.g. `model.save('my_model.keras')` or `keras.saving.save_model(model, 'my_model.keras')`. \n"
          ]
        },
        {
          "output_type": "stream",
          "name": "stdout",
          "text": [
            " LSTM Model Trained for Tweet Sentiment!\n"
          ]
        }
      ]
    },
    {
      "cell_type": "markdown",
      "source": [
        "**wait time for above compiling is almost 45 mins**"
      ],
      "metadata": {
        "id": "ecSFBf8uqZH6"
      }
    },
    {
      "cell_type": "code",
      "source": [
        "# Load News Data\n",
        "news_data = pd.read_csv(\"/content/TSLA_FEATURED_NEWS.csv\")\n",
        "\n",
        "# Scale Features\n",
        "scaled_news_data = scaler.fit_transform(news_data[['close_value', 'news_sentiment', '5_day_avg', '10_day_avg', 'volatility']])\n",
        "\n",
        "# Prepare Data for LSTM\n",
        "X_news, y_news = [], []\n",
        "for i in range(30, len(scaled_news_data)):\n",
        "    X_news.append(scaled_news_data[i-30:i])\n",
        "    y_news.append(scaled_news_data[i, 0])\n",
        "\n",
        "X_news, y_news = np.array(X_news), np.array(y_news)\n",
        "\n",
        "# Build LSTM Model\n",
        "model_news = Sequential()\n",
        "model_news.add(LSTM(units=50, return_sequences=True, input_shape=(X_news.shape[1], X_news.shape[2])))\n",
        "model_news.add(Dropout(0.2))\n",
        "model_news.add(LSTM(units=50))\n",
        "model_news.add(Dropout(0.2))\n",
        "model_news.add(Dense(units=1))\n",
        "\n",
        "model_news.compile(optimizer='adam', loss='mean_squared_error')\n",
        "model_news.fit(X_news, y_news, epochs=25, batch_size=32)\n",
        "\n",
        "# Save Model\n",
        "model_news.save(\"LSTM_TSLA_NEWS.h5\")\n",
        "\n",
        "print(\"✅ LSTM Model Trained for News Sentiment!\")\n"
      ],
      "metadata": {
        "colab": {
          "base_uri": "https://localhost:8080/"
        },
        "id": "G2HAp1_UDtoV",
        "outputId": "41d3fd94-ea3d-4bf2-b0c2-0a6cf61e6740"
      },
      "execution_count": 49,
      "outputs": [
        {
          "output_type": "stream",
          "name": "stderr",
          "text": [
            "/usr/local/lib/python3.11/dist-packages/keras/src/layers/rnn/rnn.py:200: UserWarning: Do not pass an `input_shape`/`input_dim` argument to a layer. When using Sequential models, prefer using an `Input(shape)` object as the first layer in the model instead.\n",
            "  super().__init__(**kwargs)\n"
          ]
        },
        {
          "output_type": "stream",
          "name": "stdout",
          "text": [
            "Epoch 1/25\n",
            "\u001b[1m12/12\u001b[0m \u001b[32m━━━━━━━━━━━━━━━━━━━━\u001b[0m\u001b[37m\u001b[0m \u001b[1m5s\u001b[0m 30ms/step - loss: 0.0979\n",
            "Epoch 2/25\n",
            "\u001b[1m12/12\u001b[0m \u001b[32m━━━━━━━━━━━━━━━━━━━━\u001b[0m\u001b[37m\u001b[0m \u001b[1m1s\u001b[0m 27ms/step - loss: 0.0265\n",
            "Epoch 3/25\n",
            "\u001b[1m12/12\u001b[0m \u001b[32m━━━━━━━━━━━━━━━━━━━━\u001b[0m\u001b[37m\u001b[0m \u001b[1m1s\u001b[0m 30ms/step - loss: 0.0098\n",
            "Epoch 4/25\n",
            "\u001b[1m12/12\u001b[0m \u001b[32m━━━━━━━━━━━━━━━━━━━━\u001b[0m\u001b[37m\u001b[0m \u001b[1m1s\u001b[0m 27ms/step - loss: 0.0090\n",
            "Epoch 5/25\n",
            "\u001b[1m12/12\u001b[0m \u001b[32m━━━━━━━━━━━━━━━━━━━━\u001b[0m\u001b[37m\u001b[0m \u001b[1m1s\u001b[0m 27ms/step - loss: 0.0084\n",
            "Epoch 6/25\n",
            "\u001b[1m12/12\u001b[0m \u001b[32m━━━━━━━━━━━━━━━━━━━━\u001b[0m\u001b[37m\u001b[0m \u001b[1m1s\u001b[0m 30ms/step - loss: 0.0072\n",
            "Epoch 7/25\n",
            "\u001b[1m12/12\u001b[0m \u001b[32m━━━━━━━━━━━━━━━━━━━━\u001b[0m\u001b[37m\u001b[0m \u001b[1m1s\u001b[0m 28ms/step - loss: 0.0061\n",
            "Epoch 8/25\n",
            "\u001b[1m12/12\u001b[0m \u001b[32m━━━━━━━━━━━━━━━━━━━━\u001b[0m\u001b[37m\u001b[0m \u001b[1m0s\u001b[0m 30ms/step - loss: 0.0057\n",
            "Epoch 9/25\n",
            "\u001b[1m12/12\u001b[0m \u001b[32m━━━━━━━━━━━━━━━━━━━━\u001b[0m\u001b[37m\u001b[0m \u001b[1m0s\u001b[0m 32ms/step - loss: 0.0053\n",
            "Epoch 10/25\n",
            "\u001b[1m12/12\u001b[0m \u001b[32m━━━━━━━━━━━━━━━━━━━━\u001b[0m\u001b[37m\u001b[0m \u001b[1m0s\u001b[0m 28ms/step - loss: 0.0047\n",
            "Epoch 11/25\n",
            "\u001b[1m12/12\u001b[0m \u001b[32m━━━━━━━━━━━━━━━━━━━━\u001b[0m\u001b[37m\u001b[0m \u001b[1m0s\u001b[0m 30ms/step - loss: 0.0056\n",
            "Epoch 12/25\n",
            "\u001b[1m12/12\u001b[0m \u001b[32m━━━━━━━━━━━━━━━━━━━━\u001b[0m\u001b[37m\u001b[0m \u001b[1m0s\u001b[0m 27ms/step - loss: 0.0044\n",
            "Epoch 13/25\n",
            "\u001b[1m12/12\u001b[0m \u001b[32m━━━━━━━━━━━━━━━━━━━━\u001b[0m\u001b[37m\u001b[0m \u001b[1m0s\u001b[0m 27ms/step - loss: 0.0053\n",
            "Epoch 14/25\n",
            "\u001b[1m12/12\u001b[0m \u001b[32m━━━━━━━━━━━━━━━━━━━━\u001b[0m\u001b[37m\u001b[0m \u001b[1m1s\u001b[0m 28ms/step - loss: 0.0053\n",
            "Epoch 15/25\n",
            "\u001b[1m12/12\u001b[0m \u001b[32m━━━━━━━━━━━━━━━━━━━━\u001b[0m\u001b[37m\u001b[0m \u001b[1m0s\u001b[0m 27ms/step - loss: 0.0054\n",
            "Epoch 16/25\n",
            "\u001b[1m12/12\u001b[0m \u001b[32m━━━━━━━━━━━━━━━━━━━━\u001b[0m\u001b[37m\u001b[0m \u001b[1m1s\u001b[0m 28ms/step - loss: 0.0058\n",
            "Epoch 17/25\n",
            "\u001b[1m12/12\u001b[0m \u001b[32m━━━━━━━━━━━━━━━━━━━━\u001b[0m\u001b[37m\u001b[0m \u001b[1m0s\u001b[0m 27ms/step - loss: 0.0053\n",
            "Epoch 18/25\n",
            "\u001b[1m12/12\u001b[0m \u001b[32m━━━━━━━━━━━━━━━━━━━━\u001b[0m\u001b[37m\u001b[0m \u001b[1m0s\u001b[0m 30ms/step - loss: 0.0044\n",
            "Epoch 19/25\n",
            "\u001b[1m12/12\u001b[0m \u001b[32m━━━━━━━━━━━━━━━━━━━━\u001b[0m\u001b[37m\u001b[0m \u001b[1m1s\u001b[0m 27ms/step - loss: 0.0045\n",
            "Epoch 20/25\n",
            "\u001b[1m12/12\u001b[0m \u001b[32m━━━━━━━━━━━━━━━━━━━━\u001b[0m\u001b[37m\u001b[0m \u001b[1m0s\u001b[0m 29ms/step - loss: 0.0040\n",
            "Epoch 21/25\n",
            "\u001b[1m12/12\u001b[0m \u001b[32m━━━━━━━━━━━━━━━━━━━━\u001b[0m\u001b[37m\u001b[0m \u001b[1m1s\u001b[0m 48ms/step - loss: 0.0040\n",
            "Epoch 22/25\n",
            "\u001b[1m12/12\u001b[0m \u001b[32m━━━━━━━━━━━━━━━━━━━━\u001b[0m\u001b[37m\u001b[0m \u001b[1m1s\u001b[0m 45ms/step - loss: 0.0044\n",
            "Epoch 23/25\n",
            "\u001b[1m12/12\u001b[0m \u001b[32m━━━━━━━━━━━━━━━━━━━━\u001b[0m\u001b[37m\u001b[0m \u001b[1m1s\u001b[0m 47ms/step - loss: 0.0040\n",
            "Epoch 24/25\n",
            "\u001b[1m12/12\u001b[0m \u001b[32m━━━━━━━━━━━━━━━━━━━━\u001b[0m\u001b[37m\u001b[0m \u001b[1m1s\u001b[0m 44ms/step - loss: 0.0042\n",
            "Epoch 25/25\n",
            "\u001b[1m12/12\u001b[0m \u001b[32m━━━━━━━━━━━━━━━━━━━━\u001b[0m\u001b[37m\u001b[0m \u001b[1m1s\u001b[0m 46ms/step - loss: 0.0044\n"
          ]
        },
        {
          "output_type": "stream",
          "name": "stderr",
          "text": [
            "WARNING:absl:You are saving your model as an HDF5 file via `model.save()` or `keras.saving.save_model(model)`. This file format is considered legacy. We recommend using instead the native Keras format, e.g. `model.save('my_model.keras')` or `keras.saving.save_model(model, 'my_model.keras')`. \n"
          ]
        },
        {
          "output_type": "stream",
          "name": "stdout",
          "text": [
            "✅ LSTM Model Trained for News Sentiment!\n"
          ]
        }
      ]
    },
    {
      "cell_type": "code",
      "source": [
        "from sklearn.metrics import mean_absolute_error, mean_squared_error\n",
        "import numpy as np\n",
        "\n",
        "# Predictions\n",
        "tweet_pred = model_tweet.predict(X)\n",
        "news_pred = model_news.predict(X_news)\n",
        "\n",
        "# Evaluation\n",
        "def evaluate_model(y_true, y_pred, model_name):\n",
        "    mae = mean_absolute_error(y_true, y_pred)\n",
        "    rmse = np.sqrt(mean_squared_error(y_true, y_pred))\n",
        "    print(f\"{model_name} - MAE: {mae:.4f}, RMSE: {rmse:.4f}\")\n",
        "\n",
        "evaluate_model(y, tweet_pred, \"LSTM Tweet Model\")\n",
        "evaluate_model(y_news, news_pred, \"LSTM News Model\")\n",
        "# y_pred = model_tweet.predict(X_test)  # Ensure model exists and has been trained"
      ],
      "metadata": {
        "colab": {
          "base_uri": "https://localhost:8080/"
        },
        "id": "Fvt0-ZeQDuQ4",
        "outputId": "20e24aa5-e8c4-4387-f7d3-d5634463bd20"
      },
      "execution_count": 50,
      "outputs": [
        {
          "output_type": "stream",
          "name": "stdout",
          "text": [
            "\u001b[1m11358/11358\u001b[0m \u001b[32m━━━━━━━━━━━━━━━━━━━━\u001b[0m\u001b[37m\u001b[0m \u001b[1m98s\u001b[0m 9ms/step\n",
            "\u001b[1m12/12\u001b[0m \u001b[32m━━━━━━━━━━━━━━━━━━━━\u001b[0m\u001b[37m\u001b[0m \u001b[1m1s\u001b[0m 37ms/step\n",
            "LSTM Tweet Model - MAE: 0.0035, RMSE: 0.0041\n",
            "LSTM News Model - MAE: 0.0367, RMSE: 0.0500\n"
          ]
        }
      ]
    },
    {
      "cell_type": "markdown",
      "source": [
        "# Visualization"
      ],
      "metadata": {
        "id": "VWn9OHdNEFHb"
      }
    },
    {
      "cell_type": "code",
      "source": [
        "import matplotlib.pyplot as plt\n",
        "import seaborn as sns\n",
        "\n",
        "# Plot Predictions vs Actual for Tweet Sentiment Model\n",
        "plt.figure(figsize=(12,6))\n",
        "plt.plot(y, label=\"Actual Stock Price\", color=\"blue\")\n",
        "plt.plot(tweet_pred, label=\"Predicted Price (Tweet Sentiment)\", color=\"green\", linestyle=\"dashed\")\n",
        "plt.title(\"Stock Price Prediction Using LSTM (Tweet Sentiment)\")\n",
        "plt.xlabel(\"Days\")\n",
        "plt.ylabel(\"Stock Price\")\n",
        "plt.legend()\n",
        "plt.show()\n",
        "\n",
        "# Plot Predictions vs Actual for News Sentiment Model\n",
        "plt.figure(figsize=(12,6))\n",
        "plt.plot(y_news, label=\"Actual Stock Price\", color=\"blue\")\n",
        "plt.plot(news_pred, label=\"Predicted Price (News Sentiment)\", color=\"red\", linestyle=\"dashed\")\n",
        "plt.title(\"Stock Price Prediction Using LSTM (News Sentiment)\")\n",
        "plt.xlabel(\"Days\")\n",
        "plt.ylabel(\"Stock Price\")\n",
        "plt.legend()\n",
        "plt.show()\n"
      ],
      "metadata": {
        "colab": {
          "base_uri": "https://localhost:8080/",
          "height": 1000
        },
        "id": "1muF_pVazCCq",
        "outputId": "cf5e09ae-8a06-45d6-eca6-83467fda5725"
      },
      "execution_count": 51,
      "outputs": [
        {
          "output_type": "display_data",
          "data": {
            "text/plain": [
              "<Figure size 1200x600 with 1 Axes>"
            ],
            "image/png": "[encoded data removed]"
          },
          "metadata": {}
        },
        {
          "output_type": "display_data",
          "data": {
            "text/plain": [
              "<Figure size 1200x600 with 1 Axes>"
            ],
            "image/png": "[encoded data removed]"
          },
          "metadata": {}
        }
      ]
    },
    {
      "cell_type": "code",
      "source": [
        "# Compare LSTM with ML models\n",
        "print(\" Model Performance Comparison:\")\n",
        "print(\"LSTM Tweet Sentiment Model - MAE: {:.4f}, RMSE: {:.4f}\".format(mean_absolute_error(y, tweet_pred), np.sqrt(mean_squared_error(y, tweet_pred))))\n",
        "print(\"LSTM News Sentiment Model - MAE: {:.4f}, RMSE: {:.4f}\".format(mean_absolute_error(y_news, news_pred), np.sqrt(mean_squared_error(y_news, news_pred))))\n",
        "\n",
        "\n",
        "correlation_tweet = np.corrcoef(y.flatten(), tweet_pred.flatten())[0, 1]\n",
        "correlation_news = np.corrcoef(y_news.flatten(), news_pred.flatten())[0, 1]\n",
        "\n",
        "print(f\" Correlation Between Tweet Sentiment & Stock Price: {correlation_tweet:.3f}\")\n",
        "print(f\" Correlation Between News Sentiment & Stock Price: {correlation_news:.3f}\")\n"
      ],
      "metadata": {
        "colab": {
          "base_uri": "https://localhost:8080/"
        },
        "id": "NiVGKiRTzDkv",
        "outputId": "f22f7efc-700d-4652-a5ef-1bc627969ce2"
      },
      "execution_count": 52,
      "outputs": [
        {
          "output_type": "stream",
          "name": "stdout",
          "text": [
            " Model Performance Comparison:\n",
            "LSTM Tweet Sentiment Model - MAE: 0.0035, RMSE: 0.0041\n",
            "LSTM News Sentiment Model - MAE: 0.0367, RMSE: 0.0500\n",
            " Correlation Between Tweet Sentiment & Stock Price: 1.000\n",
            " Correlation Between News Sentiment & Stock Price: 0.972\n"
          ]
        }
      ]
    },
    {
      "cell_type": "code",
      "source": [],
      "metadata": {
        "id": "yvpX2BkRzHRP"
      },
      "execution_count": 39,
      "outputs": []
    }
  ],
  "metadata": {
    "colab": {
      "provenance": [],
      "gpuType": "V28",
      "collapsed_sections": [
        "RSSbeztl4SuC",
        "rtIxEm3w4aUw",
        "v7oM2YYybjpJ",
        "l1SpoBmabqms",
        "n-WWdulg7vQ_",
        "mmI7toQa7yyK",
        "RwZ_x93P_CL0"
      ],
      "mount_file_id": "11AmYuY6p0-2vnU8ZxORnVG2nVYHtb-Nj",
      "authorship_tag": "ABX9TyNu/07YEALU9KYU2RT5LFcf",
      "include_colab_link": true
    },
    "kernelspec": {
      "display_name": "Python 3",
      "name": "python3"
    },
    "language_info": {
      "name": "python"
    },
    "accelerator": "TPU"
  },
  "nbformat": 4,
  "nbformat_minor": 0
}